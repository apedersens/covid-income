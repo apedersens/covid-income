{
 "cells": [
  {
   "cell_type": "markdown",
   "metadata": {},
   "source": [
    "Key Findings: \n",
    "\n",
    "Using the K-means clustering method, all counties were broken into 3 cluster groups based on death rates and per capita income in 2020. Cluster 0 consisting of the fewest number of counties at 73 counties has a median death rate of 0.051897 and a median per capita income of $73,639. According to Census.gov, the median national per capita income in 2020 was $35,384​. Therefore, Cluster 0's per capita median income is more than twice that of the national median. Cluster 1 posessing the of the majority of counties at 437 counties has a median death rate of 0.036874 and a median per capita income of $48,586. This median income is more than $10,000 above the national median. Cluster 2 consisting of 152 counties had a median per capita income of $47,521 and median death rate of 0.097121. Similarly, this median income is above the national median income but is approximately only $1,000 lower than the median from Cluster 1. \n",
    "\n",
    "Challenges:\n",
    "1128 values in the county column are missing. Therefore, not all counties are accounted for. \n",
    "\n",
    "Conclusion:\n",
    " Median income per capita for counties in 2020 does not appear to be positively correlated to smaller death rates and better covid outcomes in 2020. Even with its significantly higher per capita income, counties in cluster 0 had less beneficial covid outcomes than counties in cluster 1. However, clusters with a median income above $47,521 appear to have far smaller death rates than the $47,521 per capita cluster. This could be due to various reasons such as healthcare access and age.  "
   ]
  }
 ],
 "metadata": {
  "language_info": {
   "name": "python"
  },
  "orig_nbformat": 4
 },
 "nbformat": 4,
 "nbformat_minor": 2
}
